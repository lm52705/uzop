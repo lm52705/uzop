{
 "cells": [
  {
   "cell_type": "code",
   "execution_count": 33,
   "id": "c5ac6d23",
   "metadata": {},
   "outputs": [],
   "source": [
    "import pandas as pd\n",
    "import numpy as np\n",
    "from sklearn.preprocessing import LabelEncoder\n",
    "import matplotlib.pyplot as plt\n",
    "import seaborn as sns\n",
    "\n",
    "from sklearn import model_selection\n",
    "from sklearn.datasets import load_iris\n",
    "from sklearn.neighbors import KNeighborsClassifier\n",
    "from sklearn.metrics import accuracy_score\n",
    "from sklearn.metrics import confusion_matrix\n",
    "from sklearn.metrics import plot_confusion_matrix\n",
    "from sklearn.metrics import precision_score,recall_score,f1_score, matthews_corrcoef"
   ]
  },
  {
   "cell_type": "markdown",
   "id": "fe4423da",
   "metadata": {},
   "source": [
    "### Učitavanje podataka"
   ]
  },
  {
   "cell_type": "code",
   "execution_count": 34,
   "id": "51e47043",
   "metadata": {},
   "outputs": [],
   "source": [
    "df = pd.read_csv(\"CBWDB.csv\")"
   ]
  },
  {
   "cell_type": "markdown",
   "id": "5c3090f5",
   "metadata": {},
   "source": [
    "### Čišćenje podataka"
   ]
  },
  {
   "cell_type": "code",
   "execution_count": 35,
   "id": "07aac3c1",
   "metadata": {},
   "outputs": [
    {
     "name": "stderr",
     "output_type": "stream",
     "text": [
      "C:\\Users\\muha\\AppData\\Local\\Temp\\ipykernel_9596\\2337349399.py:4: FutureWarning: In a future version, `df.iloc[:, i] = newvals` will attempt to set the values inplace instead of always setting a new array. To retain the old behavior, use either `df[df.columns[i]] = newvals` or, if columns are non-unique, `df.isetitem(i, newvals)`\n",
      "  df.loc[:,'Sex'] = le.transform(df.loc[:,'Sex']) #Transformiramo Sex u numerički oblik\n",
      "C:\\Users\\muha\\AppData\\Local\\Temp\\ipykernel_9596\\2337349399.py:7: FutureWarning: In a future version, `df.iloc[:, i] = newvals` will attempt to set the values inplace instead of always setting a new array. To retain the old behavior, use either `df[df.columns[i]] = newvals` or, if columns are non-unique, `df.isetitem(i, newvals)`\n",
      "  df.loc[:,'SEC'] = le.transform(df.loc[:,'SEC']) #Transformiramo SEC u numerički oblik\n",
      "C:\\Users\\muha\\AppData\\Local\\Temp\\ipykernel_9596\\2337349399.py:10: FutureWarning: In a future version, `df.iloc[:, i] = newvals` will attempt to set the values inplace instead of always setting a new array. To retain the old behavior, use either `df[df.columns[i]] = newvals` or, if columns are non-unique, `df.isetitem(i, newvals)`\n",
      "  df.loc[:,'Term/Preterm'] = le.transform(df.loc[:,'Term/Preterm']) #Transformiramo Term/Preterm u numerički oblik\n"
     ]
    }
   ],
   "source": [
    "le = LabelEncoder()# inicijalizacija enkodera\n",
    "\n",
    "le.fit(df.loc[:,'Sex'])\n",
    "df.loc[:,'Sex'] = le.transform(df.loc[:,'Sex']) #Transformiramo Sex u numerički oblik\n",
    "\n",
    "le.fit(df.loc[:,'SEC'])\n",
    "df.loc[:,'SEC'] = le.transform(df.loc[:,'SEC']) #Transformiramo SEC u numerički oblik\n",
    "\n",
    "le.fit(df.loc[:,'Term/Preterm'])\n",
    "df.loc[:,'Term/Preterm'] = le.transform(df.loc[:,'Term/Preterm']) #Transformiramo Term/Preterm u numerički oblik"
   ]
  },
  {
   "cell_type": "code",
   "execution_count": 36,
   "id": "a1326f1d",
   "metadata": {},
   "outputs": [],
   "source": [
    "df.drop(('Bgroup'), axis=1, inplace = True)\n",
    "\n",
    "# ubaci srednju vrijednost godina tamo gdje nedostaje ta informacija\n",
    "df.loc[df['Age(years)'].isna(),'Age(years)'] = df.loc[:,'Age(years)'].mean()\n",
    "\n",
    "# ubaci srednju vrijednost visine tamo gdje nedostaje ta informacija\n",
    "df.loc[df['Height(cm)'].isna(),'Height(cm)'] = df.loc[:,'Height(cm)'].mean()\n",
    "\n",
    "# ubaci srednju vrijednost broja prethodnoh trudnoća tamo gdje nedostaje ta informacija\n",
    "df.loc[df['Parity'].isna(),'Parity'] = df.loc[:,'Parity'].mean()\n",
    "\n",
    "# ubaci srednju vrijednost ANC-a tamo gdje nedostaje ta informacija\n",
    "df.loc[df['ANC'].isna(),'ANC'] = df.loc[:,'ANC'].mean()\n",
    "\n",
    "# ubaci srednju vrijednost početne mase majke tamo gdje nedostaje ta informacija\n",
    "df.loc[df['Iwt(kg)'].isna(),'Iwt(kg)'] = df.loc[:,'Iwt(kg)'].mean()\n",
    "\n",
    "# ubaci srednju vrijednost konačne visine majke tamo gdje nedostaje ta informacija\n",
    "df.loc[df['FWt(kg)'].isna(),'FWt(kg)'] = df.loc[:,'FWt(kg)'].mean()\n",
    "\n",
    "# ubaci srednju vrijednost početnog sistoličkog tlaka tamo gdje nedostaje ta informacija\n",
    "df.loc[df['IBP_sys'].isna(),'IBP_sys'] = df.loc[:,'IBP_sys'].mean()\n",
    "\n",
    "# ubaci srednju vrijednost početnog dijastoličkog tlaka tamo gdje nedostaje ta informacija\n",
    "df.loc[df['IBP_dias'].isna(),'IBP_dias'] = df.loc[:,'IBP_dias'].mean()\n",
    "\n",
    "# ubaci srednju vrijednost konačnog sistoličkog tlaka tamo gdje nedostaje ta informacija\n",
    "df.loc[df['FBP_sys'].isna(),'FBP_sys'] = df.loc[:,'FBP_sys'].mean()\n",
    "\n",
    "# ubaci srednju vrijednost konačnog dijastoličkog tlaka tamo gdje nedostaje ta informacija\n",
    "df.loc[df['FBP_dias'].isna(),'FBP_dias'] = df.loc[:,'FBP_dias'].mean()\n",
    "\n",
    "# ubaci srednju vrijednost početne razine hemoglobina tamo gdje nedostaje ta informacija\n",
    "df.loc[df['IHb(gm%)'].isna(),'IHb(gm%)'] = df.loc[:,'IHb(gm%)'].mean()\n",
    "\n",
    "# ubaci srednju vrijednost konačne razine hemoglobina tamo gdje nedostaje ta informacija\n",
    "df.loc[df['FHb(gm%)'].isna(),'FHb(gm%)'] = df.loc[:,'FHb(gm%)'].mean()\n",
    "\n",
    "# ubaci srednju vrijednost razine šećera u krvi tamo gdje nedostaje ta informacija\n",
    "df.loc[df['BS(RBS)'].isna(),'BS(RBS)'] = df.loc[:,'BS(RBS)'].mean()\n",
    "\n",
    "# ubaci srednju vrijednost bebine mase tamo gdje nedostaje ta informacija\n",
    "df.loc[df['BWt(kg)'].isna(),'BWt(kg)'] = df.loc[:,'BWt(kg)'].mean()\n",
    "\n",
    "# postavi LNH na noramlan tamo gdje nedostaje ta informacija\n",
    "df.loc[df['LNH'].isna(),'LNH'] = 2.0\n",
    "\n",
    "#Izbaci NaN\n",
    "df.dropna()\n",
    "\n",
    "#izbacivanje stršećih vrijednosti\n",
    "df = df[df['LNH'] < 3]\n",
    "df = df[(df['BS(RBS)'] < 140) & (df['BS(RBS)'] > 40)]\n",
    "df = df[(df['Age(years)'] < 50) & (df['Age(years)'] > 10)]\n",
    "df = df[df['FHb(gm%)'] > 5]\n",
    "df = df[df['IHb(gm%)'] > 5]\n",
    "df = df[df['FBP_sys'] > 40]\n",
    "df = df[df['FBP_dias'] > 40]\n",
    "df = df[df['IBP_sys'] > 40]\n",
    "df = df[df['IBP_dias'] > 40]\n",
    "df = df[df['Height(cm)'] > 100]\n",
    "df = df[df['FWt(kg)'] > 30]\n",
    "df = df[df['Iwt(kg)'] > 30]\n",
    "\n",
    "df.columns = ['SEC', 'Age(years)','Height(cm)','Parity','ANC', 'Iwt(kg)', 'FWt(kg)', 'IBP_sys', 'IBP_dias', 'FBP_sys', 'FBP_dias', 'IHb(gm%)', 'FHb(gm%)', 'BS(RBS)', 'Term/Preterm', 'Sex', 'BWt(kg)', 'LNH']"
   ]
  },
  {
   "cell_type": "code",
   "execution_count": 38,
   "id": "93a17dcf",
   "metadata": {},
   "outputs": [],
   "source": [
    "X = df[df.columns[0:16]].values\n",
    "y = df[df.columns[17]].values"
   ]
  },
  {
   "cell_type": "code",
   "execution_count": 39,
   "id": "670adf5c",
   "metadata": {},
   "outputs": [],
   "source": [
    "X_train,X_test,y_train,y_test = model_selection.train_test_split(X,y,test_size = 0.3)"
   ]
  },
  {
   "cell_type": "markdown",
   "id": "e7f6213d",
   "metadata": {},
   "source": [
    "### Korištenje KNeighborsClassifier za klasifikaciju"
   ]
  },
  {
   "cell_type": "code",
   "execution_count": 40,
   "id": "4a99979e",
   "metadata": {},
   "outputs": [],
   "source": [
    "knn_clf = KNeighborsClassifier(n_neighbors=9)\n",
    "knn_clf.fit(X_train,y_train)\n",
    "knn_predictions = knn_clf.predict(X_test)\n"
   ]
  },
  {
   "cell_type": "markdown",
   "id": "52108c1e",
   "metadata": {},
   "source": [
    "### Izračun točnosti"
   ]
  },
  {
   "cell_type": "code",
   "execution_count": 41,
   "id": "45181e47",
   "metadata": {},
   "outputs": [
    {
     "name": "stdout",
     "output_type": "stream",
     "text": [
      "Accuracy of the knn algorithm is: 0.9083820662768031\n"
     ]
    }
   ],
   "source": [
    "print('Accuracy of the knn algorithm is: {}'.format(accuracy_score(y_test,knn_predictions)))"
   ]
  },
  {
   "cell_type": "code",
   "execution_count": 42,
   "id": "afbb257e",
   "metadata": {},
   "outputs": [
    {
     "data": {
      "text/plain": [
       "array([[  0,  47],\n",
       "       [  0, 466]], dtype=int64)"
      ]
     },
     "execution_count": 42,
     "metadata": {},
     "output_type": "execute_result"
    }
   ],
   "source": [
    "confusion_matrix(y_test,knn_predictions)"
   ]
  },
  {
   "cell_type": "code",
   "execution_count": 43,
   "id": "15dc0eb1",
   "metadata": {},
   "outputs": [
    {
     "data": {
      "text/plain": [
       "array([1., 2.])"
      ]
     },
     "execution_count": 43,
     "metadata": {},
     "output_type": "execute_result"
    }
   ],
   "source": [
    "knn_clf.classes_"
   ]
  },
  {
   "cell_type": "markdown",
   "id": "5a2ddcea",
   "metadata": {},
   "source": [
    "### Prikaz matrice zabune"
   ]
  },
  {
   "cell_type": "code",
   "execution_count": 44,
   "id": "1d82db9e",
   "metadata": {},
   "outputs": [
    {
     "name": "stderr",
     "output_type": "stream",
     "text": [
      "C:\\Users\\muha\\AppData\\Local\\Packages\\PythonSoftwareFoundation.Python.3.8_qbz5n2kfra8p0\\LocalCache\\local-packages\\Python38\\site-packages\\sklearn\\utils\\deprecation.py:87: FutureWarning: Function plot_confusion_matrix is deprecated; Function `plot_confusion_matrix` is deprecated in 1.0 and will be removed in 1.2. Use one of the class methods: ConfusionMatrixDisplay.from_predictions or ConfusionMatrixDisplay.from_estimator.\n",
      "  warnings.warn(msg, category=FutureWarning)\n"
     ]
    },
    {
     "data": {
      "image/png": "[encoded data removed]",
      "text/plain": [
       "<Figure size 1000x600 with 2 Axes>"
      ]
     },
     "metadata": {},
     "output_type": "display_data"
    }
   ],
   "source": [
    "matrix = plot_confusion_matrix(knn_clf,X_test,y_test,cmap=plt.cm.Reds)\n",
    "matrix.ax_.set_title('Confusion Matrix',color='red')\n",
    "plt.xlabel('Predicted Label',color='black')\n",
    "plt.ylabel('True Label',color='black')\n",
    "plt.gcf().axes[0].tick_params(color=\"black\")\n",
    "plt.gcf().axes[1].tick_params(color=\"black\")\n",
    "plt.gcf().set_size_inches(10,6)"
   ]
  },
  {
   "cell_type": "markdown",
   "id": "299c978f",
   "metadata": {},
   "source": [
    "### Pojedinačni prikaz metrika"
   ]
  },
  {
   "cell_type": "markdown",
   "id": "f569094e",
   "metadata": {},
   "source": [
    "Preciznost, odziv, F1 score"
   ]
  },
  {
   "cell_type": "code",
   "execution_count": 45,
   "id": "8033ca70",
   "metadata": {},
   "outputs": [
    {
     "name": "stdout",
     "output_type": "stream",
     "text": [
      "Precision Score :  0.9083820662768031\n",
      "Recall Score :  0.9083820662768031\n"
     ]
    }
   ],
   "source": [
    "print(\"Precision Score : \",precision_score(y_test,knn_predictions,average='micro'))\n",
    "print(\"Recall Score : \",recall_score(y_test, knn_predictions,average='micro'))"
   ]
  },
  {
   "cell_type": "code",
   "execution_count": 46,
   "id": "149fca83",
   "metadata": {},
   "outputs": [
    {
     "name": "stdout",
     "output_type": "stream",
     "text": [
      "F1_score:  0.9083820662768031\n"
     ]
    }
   ],
   "source": [
    "print(\"F1_score: \",f1_score(y_test,knn_predictions,average='micro'))"
   ]
  },
  {
   "cell_type": "code",
   "execution_count": 47,
   "id": "ddcdc978",
   "metadata": {},
   "outputs": [
    {
     "name": "stdout",
     "output_type": "stream",
     "text": [
      "Matthews_corrcoef:  0.9083820662768031\n"
     ]
    }
   ],
   "source": [
    "print(\"Matthews_corrcoef: \",f1_score(y_test,knn_predictions,average='micro'))"
   ]
  },
  {
   "cell_type": "markdown",
   "id": "a892f245",
   "metadata": {},
   "source": [
    "#### Uz opciju classification_report"
   ]
  },
  {
   "cell_type": "code",
   "execution_count": 48,
   "id": "745aa0e4",
   "metadata": {},
   "outputs": [],
   "source": [
    "from sklearn.metrics import classification_report"
   ]
  },
  {
   "cell_type": "code",
   "execution_count": 49,
   "id": "9049c782",
   "metadata": {},
   "outputs": [
    {
     "name": "stdout",
     "output_type": "stream",
     "text": [
      "              precision    recall  f1-score   support\n",
      "\n",
      "         1.0       0.00      0.00      0.00        47\n",
      "         2.0       0.91      1.00      0.95       466\n",
      "\n",
      "    accuracy                           0.91       513\n",
      "   macro avg       0.45      0.50      0.48       513\n",
      "weighted avg       0.83      0.91      0.86       513\n",
      "\n"
     ]
    },
    {
     "name": "stderr",
     "output_type": "stream",
     "text": [
      "C:\\Users\\muha\\AppData\\Local\\Packages\\PythonSoftwareFoundation.Python.3.8_qbz5n2kfra8p0\\LocalCache\\local-packages\\Python38\\site-packages\\sklearn\\metrics\\_classification.py:1334: UndefinedMetricWarning: Precision and F-score are ill-defined and being set to 0.0 in labels with no predicted samples. Use `zero_division` parameter to control this behavior.\n",
      "  _warn_prf(average, modifier, msg_start, len(result))\n",
      "C:\\Users\\muha\\AppData\\Local\\Packages\\PythonSoftwareFoundation.Python.3.8_qbz5n2kfra8p0\\LocalCache\\local-packages\\Python38\\site-packages\\sklearn\\metrics\\_classification.py:1334: UndefinedMetricWarning: Precision and F-score are ill-defined and being set to 0.0 in labels with no predicted samples. Use `zero_division` parameter to control this behavior.\n",
      "  _warn_prf(average, modifier, msg_start, len(result))\n",
      "C:\\Users\\muha\\AppData\\Local\\Packages\\PythonSoftwareFoundation.Python.3.8_qbz5n2kfra8p0\\LocalCache\\local-packages\\Python38\\site-packages\\sklearn\\metrics\\_classification.py:1334: UndefinedMetricWarning: Precision and F-score are ill-defined and being set to 0.0 in labels with no predicted samples. Use `zero_division` parameter to control this behavior.\n",
      "  _warn_prf(average, modifier, msg_start, len(result))\n"
     ]
    }
   ],
   "source": [
    "print(classification_report(y_test,knn_predictions))"
   ]
  },
  {
   "cell_type": "markdown",
   "id": "7901023d",
   "metadata": {},
   "source": [
    "### Cronbach alpha\n",
    "Mjera prosječne korelacije ili konzistentnosti stavki u skupu"
   ]
  },
  {
   "cell_type": "code",
   "execution_count": 50,
   "id": "ca222bf2",
   "metadata": {},
   "outputs": [],
   "source": [
    "def cronbach_alpha(df):\n",
    "    # 1. Računanje korelacijske matrice\n",
    "    df_corr = df.corr()\n",
    "    \n",
    "    # 2. Računanje broja stavki\n",
    "    N = df.shape[1]\n",
    "    \n",
    "    # 3. Računanje R - srednja korelacija između stavki\n",
    "    rs = np.array([])\n",
    "    for i, col in enumerate(df_corr.columns):\n",
    "        sum_ = df_corr[col][i+1:].values\n",
    "        rs = np.append(sum_, rs)\n",
    "    mean_r = np.mean(rs)\n",
    "    \n",
    "   # 4. Izračun Cronbach alphe prema sljedećoj formuli\n",
    "    cronbach_alpha = (N * mean_r) / (1 + (N - 1) * mean_r)\n",
    "    return cronbach_alpha"
   ]
  },
  {
   "cell_type": "code",
   "execution_count": 51,
   "id": "ba05c7bd",
   "metadata": {},
   "outputs": [
    {
     "data": {
      "text/plain": [
       "0.5142265182744842"
      ]
     },
     "execution_count": 51,
     "metadata": {},
     "output_type": "execute_result"
    }
   ],
   "source": [
    "cronbach_alpha(df)"
   ]
  },
  {
   "cell_type": "code",
   "execution_count": 52,
   "id": "34021b5f",
   "metadata": {},
   "outputs": [
    {
     "data": {
      "text/html": [
       "<div>\n",
       "<style scoped>\n",
       "    .dataframe tbody tr th:only-of-type {\n",
       "        vertical-align: middle;\n",
       "    }\n",
       "\n",
       "    .dataframe tbody tr th {\n",
       "        vertical-align: top;\n",
       "    }\n",
       "\n",
       "    .dataframe thead th {\n",
       "        text-align: right;\n",
       "    }\n",
       "</style>\n",
       "<table border=\"1\" class=\"dataframe\">\n",
       "  <thead>\n",
       "    <tr style=\"text-align: right;\">\n",
       "      <th></th>\n",
       "      <th>SEC</th>\n",
       "      <th>Age(years)</th>\n",
       "      <th>Height(cm)</th>\n",
       "      <th>Parity</th>\n",
       "      <th>ANC</th>\n",
       "      <th>Iwt(kg)</th>\n",
       "      <th>FWt(kg)</th>\n",
       "      <th>IBP_sys</th>\n",
       "      <th>IBP_dias</th>\n",
       "      <th>FBP_sys</th>\n",
       "      <th>FBP_dias</th>\n",
       "      <th>IHb(gm%)</th>\n",
       "      <th>FHb(gm%)</th>\n",
       "      <th>BS(RBS)</th>\n",
       "      <th>Term/Preterm</th>\n",
       "      <th>Sex</th>\n",
       "      <th>BWt(kg)</th>\n",
       "      <th>LNH</th>\n",
       "    </tr>\n",
       "  </thead>\n",
       "  <tbody>\n",
       "    <tr>\n",
       "      <th>SEC</th>\n",
       "      <td>1.000000</td>\n",
       "      <td>0.001768</td>\n",
       "      <td>0.180967</td>\n",
       "      <td>0.170749</td>\n",
       "      <td>-0.096696</td>\n",
       "      <td>0.055395</td>\n",
       "      <td>-0.005254</td>\n",
       "      <td>0.280675</td>\n",
       "      <td>-0.082915</td>\n",
       "      <td>0.141646</td>\n",
       "      <td>-0.202713</td>\n",
       "      <td>-0.144943</td>\n",
       "      <td>-0.267627</td>\n",
       "      <td>-0.072271</td>\n",
       "      <td>0.545675</td>\n",
       "      <td>0.279469</td>\n",
       "      <td>-0.036608</td>\n",
       "      <td>0.107704</td>\n",
       "    </tr>\n",
       "    <tr>\n",
       "      <th>Age(years)</th>\n",
       "      <td>0.001768</td>\n",
       "      <td>1.000000</td>\n",
       "      <td>0.062635</td>\n",
       "      <td>0.468588</td>\n",
       "      <td>-0.086173</td>\n",
       "      <td>0.152379</td>\n",
       "      <td>0.101193</td>\n",
       "      <td>0.030150</td>\n",
       "      <td>0.034199</td>\n",
       "      <td>0.031436</td>\n",
       "      <td>0.028038</td>\n",
       "      <td>-0.029997</td>\n",
       "      <td>-0.064666</td>\n",
       "      <td>-0.018019</td>\n",
       "      <td>0.039908</td>\n",
       "      <td>0.043683</td>\n",
       "      <td>0.059784</td>\n",
       "      <td>0.032027</td>\n",
       "    </tr>\n",
       "    <tr>\n",
       "      <th>Height(cm)</th>\n",
       "      <td>0.180967</td>\n",
       "      <td>0.062635</td>\n",
       "      <td>1.000000</td>\n",
       "      <td>0.125180</td>\n",
       "      <td>-0.190227</td>\n",
       "      <td>0.107545</td>\n",
       "      <td>0.006409</td>\n",
       "      <td>0.097245</td>\n",
       "      <td>-0.003068</td>\n",
       "      <td>-0.003399</td>\n",
       "      <td>-0.130464</td>\n",
       "      <td>0.049075</td>\n",
       "      <td>0.033395</td>\n",
       "      <td>-0.037639</td>\n",
       "      <td>0.148870</td>\n",
       "      <td>0.100243</td>\n",
       "      <td>-0.060344</td>\n",
       "      <td>-0.055436</td>\n",
       "    </tr>\n",
       "    <tr>\n",
       "      <th>Parity</th>\n",
       "      <td>0.170749</td>\n",
       "      <td>0.468588</td>\n",
       "      <td>0.125180</td>\n",
       "      <td>1.000000</td>\n",
       "      <td>-0.086632</td>\n",
       "      <td>0.005302</td>\n",
       "      <td>-0.010662</td>\n",
       "      <td>0.043028</td>\n",
       "      <td>-0.035859</td>\n",
       "      <td>0.017738</td>\n",
       "      <td>-0.046028</td>\n",
       "      <td>-0.128680</td>\n",
       "      <td>-0.152447</td>\n",
       "      <td>-0.038331</td>\n",
       "      <td>0.161726</td>\n",
       "      <td>0.070335</td>\n",
       "      <td>-0.044530</td>\n",
       "      <td>0.009824</td>\n",
       "    </tr>\n",
       "    <tr>\n",
       "      <th>ANC</th>\n",
       "      <td>-0.096696</td>\n",
       "      <td>-0.086173</td>\n",
       "      <td>-0.190227</td>\n",
       "      <td>-0.086632</td>\n",
       "      <td>1.000000</td>\n",
       "      <td>-0.033941</td>\n",
       "      <td>0.251070</td>\n",
       "      <td>-0.097081</td>\n",
       "      <td>0.013390</td>\n",
       "      <td>0.156133</td>\n",
       "      <td>0.209323</td>\n",
       "      <td>0.055583</td>\n",
       "      <td>0.156584</td>\n",
       "      <td>0.111978</td>\n",
       "      <td>-0.379049</td>\n",
       "      <td>-0.396446</td>\n",
       "      <td>0.041597</td>\n",
       "      <td>-0.049836</td>\n",
       "    </tr>\n",
       "    <tr>\n",
       "      <th>Iwt(kg)</th>\n",
       "      <td>0.055395</td>\n",
       "      <td>0.152379</td>\n",
       "      <td>0.107545</td>\n",
       "      <td>0.005302</td>\n",
       "      <td>-0.033941</td>\n",
       "      <td>1.000000</td>\n",
       "      <td>0.728868</td>\n",
       "      <td>0.283938</td>\n",
       "      <td>0.137842</td>\n",
       "      <td>0.213657</td>\n",
       "      <td>0.034246</td>\n",
       "      <td>0.109504</td>\n",
       "      <td>0.099744</td>\n",
       "      <td>0.001447</td>\n",
       "      <td>0.049538</td>\n",
       "      <td>0.026172</td>\n",
       "      <td>0.126770</td>\n",
       "      <td>0.014343</td>\n",
       "    </tr>\n",
       "    <tr>\n",
       "      <th>FWt(kg)</th>\n",
       "      <td>-0.005254</td>\n",
       "      <td>0.101193</td>\n",
       "      <td>0.006409</td>\n",
       "      <td>-0.010662</td>\n",
       "      <td>0.251070</td>\n",
       "      <td>0.728868</td>\n",
       "      <td>1.000000</td>\n",
       "      <td>0.191394</td>\n",
       "      <td>0.124922</td>\n",
       "      <td>0.251975</td>\n",
       "      <td>0.115897</td>\n",
       "      <td>0.107339</td>\n",
       "      <td>0.179791</td>\n",
       "      <td>0.049486</td>\n",
       "      <td>-0.113260</td>\n",
       "      <td>-0.155221</td>\n",
       "      <td>0.163890</td>\n",
       "      <td>-0.004820</td>\n",
       "    </tr>\n",
       "    <tr>\n",
       "      <th>IBP_sys</th>\n",
       "      <td>0.280675</td>\n",
       "      <td>0.030150</td>\n",
       "      <td>0.097245</td>\n",
       "      <td>0.043028</td>\n",
       "      <td>-0.097081</td>\n",
       "      <td>0.283938</td>\n",
       "      <td>0.191394</td>\n",
       "      <td>1.000000</td>\n",
       "      <td>0.260265</td>\n",
       "      <td>0.357540</td>\n",
       "      <td>-0.101669</td>\n",
       "      <td>0.009859</td>\n",
       "      <td>0.005168</td>\n",
       "      <td>-0.011971</td>\n",
       "      <td>0.354389</td>\n",
       "      <td>0.200985</td>\n",
       "      <td>0.029870</td>\n",
       "      <td>0.046502</td>\n",
       "    </tr>\n",
       "    <tr>\n",
       "      <th>IBP_dias</th>\n",
       "      <td>-0.082915</td>\n",
       "      <td>0.034199</td>\n",
       "      <td>-0.003068</td>\n",
       "      <td>-0.035859</td>\n",
       "      <td>0.013390</td>\n",
       "      <td>0.137842</td>\n",
       "      <td>0.124922</td>\n",
       "      <td>0.260265</td>\n",
       "      <td>1.000000</td>\n",
       "      <td>0.115661</td>\n",
       "      <td>0.355932</td>\n",
       "      <td>0.099459</td>\n",
       "      <td>0.059407</td>\n",
       "      <td>0.028374</td>\n",
       "      <td>-0.044453</td>\n",
       "      <td>0.014079</td>\n",
       "      <td>-0.006355</td>\n",
       "      <td>-0.003753</td>\n",
       "    </tr>\n",
       "    <tr>\n",
       "      <th>FBP_sys</th>\n",
       "      <td>0.141646</td>\n",
       "      <td>0.031436</td>\n",
       "      <td>-0.003399</td>\n",
       "      <td>0.017738</td>\n",
       "      <td>0.156133</td>\n",
       "      <td>0.213657</td>\n",
       "      <td>0.251975</td>\n",
       "      <td>0.357540</td>\n",
       "      <td>0.115661</td>\n",
       "      <td>1.000000</td>\n",
       "      <td>0.373386</td>\n",
       "      <td>-0.014587</td>\n",
       "      <td>-0.004845</td>\n",
       "      <td>0.099919</td>\n",
       "      <td>0.102194</td>\n",
       "      <td>0.029810</td>\n",
       "      <td>0.080952</td>\n",
       "      <td>0.062449</td>\n",
       "    </tr>\n",
       "    <tr>\n",
       "      <th>FBP_dias</th>\n",
       "      <td>-0.202713</td>\n",
       "      <td>0.028038</td>\n",
       "      <td>-0.130464</td>\n",
       "      <td>-0.046028</td>\n",
       "      <td>0.209323</td>\n",
       "      <td>0.034246</td>\n",
       "      <td>0.115897</td>\n",
       "      <td>-0.101669</td>\n",
       "      <td>0.355932</td>\n",
       "      <td>0.373386</td>\n",
       "      <td>1.000000</td>\n",
       "      <td>0.084612</td>\n",
       "      <td>0.059496</td>\n",
       "      <td>0.061396</td>\n",
       "      <td>-0.247455</td>\n",
       "      <td>-0.149480</td>\n",
       "      <td>0.057302</td>\n",
       "      <td>0.001799</td>\n",
       "    </tr>\n",
       "    <tr>\n",
       "      <th>IHb(gm%)</th>\n",
       "      <td>-0.144943</td>\n",
       "      <td>-0.029997</td>\n",
       "      <td>0.049075</td>\n",
       "      <td>-0.128680</td>\n",
       "      <td>0.055583</td>\n",
       "      <td>0.109504</td>\n",
       "      <td>0.107339</td>\n",
       "      <td>0.009859</td>\n",
       "      <td>0.099459</td>\n",
       "      <td>-0.014587</td>\n",
       "      <td>0.084612</td>\n",
       "      <td>1.000000</td>\n",
       "      <td>0.630023</td>\n",
       "      <td>0.157834</td>\n",
       "      <td>-0.194684</td>\n",
       "      <td>-0.122312</td>\n",
       "      <td>-0.016269</td>\n",
       "      <td>-0.124375</td>\n",
       "    </tr>\n",
       "    <tr>\n",
       "      <th>FHb(gm%)</th>\n",
       "      <td>-0.267627</td>\n",
       "      <td>-0.064666</td>\n",
       "      <td>0.033395</td>\n",
       "      <td>-0.152447</td>\n",
       "      <td>0.156584</td>\n",
       "      <td>0.099744</td>\n",
       "      <td>0.179791</td>\n",
       "      <td>0.005168</td>\n",
       "      <td>0.059407</td>\n",
       "      <td>-0.004845</td>\n",
       "      <td>0.059496</td>\n",
       "      <td>0.630023</td>\n",
       "      <td>1.000000</td>\n",
       "      <td>0.188054</td>\n",
       "      <td>-0.307967</td>\n",
       "      <td>-0.182636</td>\n",
       "      <td>-0.015684</td>\n",
       "      <td>-0.141355</td>\n",
       "    </tr>\n",
       "    <tr>\n",
       "      <th>BS(RBS)</th>\n",
       "      <td>-0.072271</td>\n",
       "      <td>-0.018019</td>\n",
       "      <td>-0.037639</td>\n",
       "      <td>-0.038331</td>\n",
       "      <td>0.111978</td>\n",
       "      <td>0.001447</td>\n",
       "      <td>0.049486</td>\n",
       "      <td>-0.011971</td>\n",
       "      <td>0.028374</td>\n",
       "      <td>0.099919</td>\n",
       "      <td>0.061396</td>\n",
       "      <td>0.157834</td>\n",
       "      <td>0.188054</td>\n",
       "      <td>1.000000</td>\n",
       "      <td>-0.081199</td>\n",
       "      <td>-0.066601</td>\n",
       "      <td>0.104304</td>\n",
       "      <td>0.064780</td>\n",
       "    </tr>\n",
       "    <tr>\n",
       "      <th>Term/Preterm</th>\n",
       "      <td>0.545675</td>\n",
       "      <td>0.039908</td>\n",
       "      <td>0.148870</td>\n",
       "      <td>0.161726</td>\n",
       "      <td>-0.379049</td>\n",
       "      <td>0.049538</td>\n",
       "      <td>-0.113260</td>\n",
       "      <td>0.354389</td>\n",
       "      <td>-0.044453</td>\n",
       "      <td>0.102194</td>\n",
       "      <td>-0.247455</td>\n",
       "      <td>-0.194684</td>\n",
       "      <td>-0.307967</td>\n",
       "      <td>-0.081199</td>\n",
       "      <td>1.000000</td>\n",
       "      <td>0.710978</td>\n",
       "      <td>0.028397</td>\n",
       "      <td>0.219039</td>\n",
       "    </tr>\n",
       "    <tr>\n",
       "      <th>Sex</th>\n",
       "      <td>0.279469</td>\n",
       "      <td>0.043683</td>\n",
       "      <td>0.100243</td>\n",
       "      <td>0.070335</td>\n",
       "      <td>-0.396446</td>\n",
       "      <td>0.026172</td>\n",
       "      <td>-0.155221</td>\n",
       "      <td>0.200985</td>\n",
       "      <td>0.014079</td>\n",
       "      <td>0.029810</td>\n",
       "      <td>-0.149480</td>\n",
       "      <td>-0.122312</td>\n",
       "      <td>-0.182636</td>\n",
       "      <td>-0.066601</td>\n",
       "      <td>0.710978</td>\n",
       "      <td>1.000000</td>\n",
       "      <td>0.039629</td>\n",
       "      <td>0.223798</td>\n",
       "    </tr>\n",
       "    <tr>\n",
       "      <th>BWt(kg)</th>\n",
       "      <td>-0.036608</td>\n",
       "      <td>0.059784</td>\n",
       "      <td>-0.060344</td>\n",
       "      <td>-0.044530</td>\n",
       "      <td>0.041597</td>\n",
       "      <td>0.126770</td>\n",
       "      <td>0.163890</td>\n",
       "      <td>0.029870</td>\n",
       "      <td>-0.006355</td>\n",
       "      <td>0.080952</td>\n",
       "      <td>0.057302</td>\n",
       "      <td>-0.016269</td>\n",
       "      <td>-0.015684</td>\n",
       "      <td>0.104304</td>\n",
       "      <td>0.028397</td>\n",
       "      <td>0.039629</td>\n",
       "      <td>1.000000</td>\n",
       "      <td>0.548985</td>\n",
       "    </tr>\n",
       "    <tr>\n",
       "      <th>LNH</th>\n",
       "      <td>0.107704</td>\n",
       "      <td>0.032027</td>\n",
       "      <td>-0.055436</td>\n",
       "      <td>0.009824</td>\n",
       "      <td>-0.049836</td>\n",
       "      <td>0.014343</td>\n",
       "      <td>-0.004820</td>\n",
       "      <td>0.046502</td>\n",
       "      <td>-0.003753</td>\n",
       "      <td>0.062449</td>\n",
       "      <td>0.001799</td>\n",
       "      <td>-0.124375</td>\n",
       "      <td>-0.141355</td>\n",
       "      <td>0.064780</td>\n",
       "      <td>0.219039</td>\n",
       "      <td>0.223798</td>\n",
       "      <td>0.548985</td>\n",
       "      <td>1.000000</td>\n",
       "    </tr>\n",
       "  </tbody>\n",
       "</table>\n",
       "</div>"
      ],
      "text/plain": [
       "                   SEC  Age(years)  Height(cm)    Parity       ANC   Iwt(kg)  \\\n",
       "SEC           1.000000    0.001768    0.180967  0.170749 -0.096696  0.055395   \n",
       "Age(years)    0.001768    1.000000    0.062635  0.468588 -0.086173  0.152379   \n",
       "Height(cm)    0.180967    0.062635    1.000000  0.125180 -0.190227  0.107545   \n",
       "Parity        0.170749    0.468588    0.125180  1.000000 -0.086632  0.005302   \n",
       "ANC          -0.096696   -0.086173   -0.190227 -0.086632  1.000000 -0.033941   \n",
       "Iwt(kg)       0.055395    0.152379    0.107545  0.005302 -0.033941  1.000000   \n",
       "FWt(kg)      -0.005254    0.101193    0.006409 -0.010662  0.251070  0.728868   \n",
       "IBP_sys       0.280675    0.030150    0.097245  0.043028 -0.097081  0.283938   \n",
       "IBP_dias     -0.082915    0.034199   -0.003068 -0.035859  0.013390  0.137842   \n",
       "FBP_sys       0.141646    0.031436   -0.003399  0.017738  0.156133  0.213657   \n",
       "FBP_dias     -0.202713    0.028038   -0.130464 -0.046028  0.209323  0.034246   \n",
       "IHb(gm%)     -0.144943   -0.029997    0.049075 -0.128680  0.055583  0.109504   \n",
       "FHb(gm%)     -0.267627   -0.064666    0.033395 -0.152447  0.156584  0.099744   \n",
       "BS(RBS)      -0.072271   -0.018019   -0.037639 -0.038331  0.111978  0.001447   \n",
       "Term/Preterm  0.545675    0.039908    0.148870  0.161726 -0.379049  0.049538   \n",
       "Sex           0.279469    0.043683    0.100243  0.070335 -0.396446  0.026172   \n",
       "BWt(kg)      -0.036608    0.059784   -0.060344 -0.044530  0.041597  0.126770   \n",
       "LNH           0.107704    0.032027   -0.055436  0.009824 -0.049836  0.014343   \n",
       "\n",
       "               FWt(kg)   IBP_sys  IBP_dias   FBP_sys  FBP_dias  IHb(gm%)  \\\n",
       "SEC          -0.005254  0.280675 -0.082915  0.141646 -0.202713 -0.144943   \n",
       "Age(years)    0.101193  0.030150  0.034199  0.031436  0.028038 -0.029997   \n",
       "Height(cm)    0.006409  0.097245 -0.003068 -0.003399 -0.130464  0.049075   \n",
       "Parity       -0.010662  0.043028 -0.035859  0.017738 -0.046028 -0.128680   \n",
       "ANC           0.251070 -0.097081  0.013390  0.156133  0.209323  0.055583   \n",
       "Iwt(kg)       0.728868  0.283938  0.137842  0.213657  0.034246  0.109504   \n",
       "FWt(kg)       1.000000  0.191394  0.124922  0.251975  0.115897  0.107339   \n",
       "IBP_sys       0.191394  1.000000  0.260265  0.357540 -0.101669  0.009859   \n",
       "IBP_dias      0.124922  0.260265  1.000000  0.115661  0.355932  0.099459   \n",
       "FBP_sys       0.251975  0.357540  0.115661  1.000000  0.373386 -0.014587   \n",
       "FBP_dias      0.115897 -0.101669  0.355932  0.373386  1.000000  0.084612   \n",
       "IHb(gm%)      0.107339  0.009859  0.099459 -0.014587  0.084612  1.000000   \n",
       "FHb(gm%)      0.179791  0.005168  0.059407 -0.004845  0.059496  0.630023   \n",
       "BS(RBS)       0.049486 -0.011971  0.028374  0.099919  0.061396  0.157834   \n",
       "Term/Preterm -0.113260  0.354389 -0.044453  0.102194 -0.247455 -0.194684   \n",
       "Sex          -0.155221  0.200985  0.014079  0.029810 -0.149480 -0.122312   \n",
       "BWt(kg)       0.163890  0.029870 -0.006355  0.080952  0.057302 -0.016269   \n",
       "LNH          -0.004820  0.046502 -0.003753  0.062449  0.001799 -0.124375   \n",
       "\n",
       "              FHb(gm%)   BS(RBS)  Term/Preterm       Sex   BWt(kg)       LNH  \n",
       "SEC          -0.267627 -0.072271      0.545675  0.279469 -0.036608  0.107704  \n",
       "Age(years)   -0.064666 -0.018019      0.039908  0.043683  0.059784  0.032027  \n",
       "Height(cm)    0.033395 -0.037639      0.148870  0.100243 -0.060344 -0.055436  \n",
       "Parity       -0.152447 -0.038331      0.161726  0.070335 -0.044530  0.009824  \n",
       "ANC           0.156584  0.111978     -0.379049 -0.396446  0.041597 -0.049836  \n",
       "Iwt(kg)       0.099744  0.001447      0.049538  0.026172  0.126770  0.014343  \n",
       "FWt(kg)       0.179791  0.049486     -0.113260 -0.155221  0.163890 -0.004820  \n",
       "IBP_sys       0.005168 -0.011971      0.354389  0.200985  0.029870  0.046502  \n",
       "IBP_dias      0.059407  0.028374     -0.044453  0.014079 -0.006355 -0.003753  \n",
       "FBP_sys      -0.004845  0.099919      0.102194  0.029810  0.080952  0.062449  \n",
       "FBP_dias      0.059496  0.061396     -0.247455 -0.149480  0.057302  0.001799  \n",
       "IHb(gm%)      0.630023  0.157834     -0.194684 -0.122312 -0.016269 -0.124375  \n",
       "FHb(gm%)      1.000000  0.188054     -0.307967 -0.182636 -0.015684 -0.141355  \n",
       "BS(RBS)       0.188054  1.000000     -0.081199 -0.066601  0.104304  0.064780  \n",
       "Term/Preterm -0.307967 -0.081199      1.000000  0.710978  0.028397  0.219039  \n",
       "Sex          -0.182636 -0.066601      0.710978  1.000000  0.039629  0.223798  \n",
       "BWt(kg)      -0.015684  0.104304      0.028397  0.039629  1.000000  0.548985  \n",
       "LNH          -0.141355  0.064780      0.219039  0.223798  0.548985  1.000000  "
      ]
     },
     "execution_count": 52,
     "metadata": {},
     "output_type": "execute_result"
    }
   ],
   "source": [
    "df.corr()"
   ]
  },
  {
   "cell_type": "markdown",
   "id": "790c628c",
   "metadata": {},
   "source": [
    "U članku su korišteni algoritmi Gaussian Naive Bayes i Random FOrest, što je prikazano u nastavku."
   ]
  },
  {
   "cell_type": "markdown",
   "id": "3f4a3fb5",
   "metadata": {},
   "source": [
    "## Gaussian Naive Bayes"
   ]
  },
  {
   "cell_type": "code",
   "execution_count": 53,
   "id": "37c3b3a8",
   "metadata": {},
   "outputs": [
    {
     "data": {
      "text/html": [
       "<style>#sk-container-id-1 {color: black;background-color: white;}#sk-container-id-1 pre{padding: 0;}#sk-container-id-1 div.sk-toggleable {background-color: white;}#sk-container-id-1 label.sk-toggleable__label {cursor: pointer;display: block;width: 100%;margin-bottom: 0;padding: 0.3em;box-sizing: border-box;text-align: center;}#sk-container-id-1 label.sk-toggleable__label-arrow:before {content: \"▸\";float: left;margin-right: 0.25em;color: #696969;}#sk-container-id-1 label.sk-toggleable__label-arrow:hover:before {color: black;}#sk-container-id-1 div.sk-estimator:hover label.sk-toggleable__label-arrow:before {color: black;}#sk-container-id-1 div.sk-toggleable__content {max-height: 0;max-width: 0;overflow: hidden;text-align: left;background-color: #f0f8ff;}#sk-container-id-1 div.sk-toggleable__content pre {margin: 0.2em;color: black;border-radius: 0.25em;background-color: #f0f8ff;}#sk-container-id-1 input.sk-toggleable__control:checked~div.sk-toggleable__content {max-height: 200px;max-width: 100%;overflow: auto;}#sk-container-id-1 input.sk-toggleable__control:checked~label.sk-toggleable__label-arrow:before {content: \"▾\";}#sk-container-id-1 div.sk-estimator input.sk-toggleable__control:checked~label.sk-toggleable__label {background-color: #d4ebff;}#sk-container-id-1 div.sk-label input.sk-toggleable__control:checked~label.sk-toggleable__label {background-color: #d4ebff;}#sk-container-id-1 input.sk-hidden--visually {border: 0;clip: rect(1px 1px 1px 1px);clip: rect(1px, 1px, 1px, 1px);height: 1px;margin: -1px;overflow: hidden;padding: 0;position: absolute;width: 1px;}#sk-container-id-1 div.sk-estimator {font-family: monospace;background-color: #f0f8ff;border: 1px dotted black;border-radius: 0.25em;box-sizing: border-box;margin-bottom: 0.5em;}#sk-container-id-1 div.sk-estimator:hover {background-color: #d4ebff;}#sk-container-id-1 div.sk-parallel-item::after {content: \"\";width: 100%;border-bottom: 1px solid gray;flex-grow: 1;}#sk-container-id-1 div.sk-label:hover label.sk-toggleable__label {background-color: #d4ebff;}#sk-container-id-1 div.sk-serial::before {content: \"\";position: absolute;border-left: 1px solid gray;box-sizing: border-box;top: 0;bottom: 0;left: 50%;z-index: 0;}#sk-container-id-1 div.sk-serial {display: flex;flex-direction: column;align-items: center;background-color: white;padding-right: 0.2em;padding-left: 0.2em;position: relative;}#sk-container-id-1 div.sk-item {position: relative;z-index: 1;}#sk-container-id-1 div.sk-parallel {display: flex;align-items: stretch;justify-content: center;background-color: white;position: relative;}#sk-container-id-1 div.sk-item::before, #sk-container-id-1 div.sk-parallel-item::before {content: \"\";position: absolute;border-left: 1px solid gray;box-sizing: border-box;top: 0;bottom: 0;left: 50%;z-index: -1;}#sk-container-id-1 div.sk-parallel-item {display: flex;flex-direction: column;z-index: 1;position: relative;background-color: white;}#sk-container-id-1 div.sk-parallel-item:first-child::after {align-self: flex-end;width: 50%;}#sk-container-id-1 div.sk-parallel-item:last-child::after {align-self: flex-start;width: 50%;}#sk-container-id-1 div.sk-parallel-item:only-child::after {width: 0;}#sk-container-id-1 div.sk-dashed-wrapped {border: 1px dashed gray;margin: 0 0.4em 0.5em 0.4em;box-sizing: border-box;padding-bottom: 0.4em;background-color: white;}#sk-container-id-1 div.sk-label label {font-family: monospace;font-weight: bold;display: inline-block;line-height: 1.2em;}#sk-container-id-1 div.sk-label-container {text-align: center;}#sk-container-id-1 div.sk-container {/* jupyter's `normalize.less` sets `[hidden] { display: none; }` but bootstrap.min.css set `[hidden] { display: none !important; }` so we also need the `!important` here to be able to override the default hidden behavior on the sphinx rendered scikit-learn.org. See: https://github.com/scikit-learn/scikit-learn/issues/21755 */display: inline-block !important;position: relative;}#sk-container-id-1 div.sk-text-repr-fallback {display: none;}</style><div id=\"sk-container-id-1\" class=\"sk-top-container\"><div class=\"sk-text-repr-fallback\"><pre>GaussianNB()</pre><b>In a Jupyter environment, please rerun this cell to show the HTML representation or trust the notebook. <br />On GitHub, the HTML representation is unable to render, please try loading this page with nbviewer.org.</b></div><div class=\"sk-container\" hidden><div class=\"sk-item\"><div class=\"sk-estimator sk-toggleable\"><input class=\"sk-toggleable__control sk-hidden--visually\" id=\"sk-estimator-id-1\" type=\"checkbox\" checked><label for=\"sk-estimator-id-1\" class=\"sk-toggleable__label sk-toggleable__label-arrow\">GaussianNB</label><div class=\"sk-toggleable__content\"><pre>GaussianNB()</pre></div></div></div></div></div>"
      ],
      "text/plain": [
       "GaussianNB()"
      ]
     },
     "execution_count": 53,
     "metadata": {},
     "output_type": "execute_result"
    }
   ],
   "source": [
    "from sklearn.naive_bayes import GaussianNB\n",
    "\n",
    "nb = GaussianNB()\n",
    "nb.fit(X_train, y_train)"
   ]
  },
  {
   "cell_type": "code",
   "execution_count": 54,
   "id": "a0c7379d",
   "metadata": {},
   "outputs": [
    {
     "data": {
      "text/html": [
       "<style>#sk-container-id-2 {color: black;background-color: white;}#sk-container-id-2 pre{padding: 0;}#sk-container-id-2 div.sk-toggleable {background-color: white;}#sk-container-id-2 label.sk-toggleable__label {cursor: pointer;display: block;width: 100%;margin-bottom: 0;padding: 0.3em;box-sizing: border-box;text-align: center;}#sk-container-id-2 label.sk-toggleable__label-arrow:before {content: \"▸\";float: left;margin-right: 0.25em;color: #696969;}#sk-container-id-2 label.sk-toggleable__label-arrow:hover:before {color: black;}#sk-container-id-2 div.sk-estimator:hover label.sk-toggleable__label-arrow:before {color: black;}#sk-container-id-2 div.sk-toggleable__content {max-height: 0;max-width: 0;overflow: hidden;text-align: left;background-color: #f0f8ff;}#sk-container-id-2 div.sk-toggleable__content pre {margin: 0.2em;color: black;border-radius: 0.25em;background-color: #f0f8ff;}#sk-container-id-2 input.sk-toggleable__control:checked~div.sk-toggleable__content {max-height: 200px;max-width: 100%;overflow: auto;}#sk-container-id-2 input.sk-toggleable__control:checked~label.sk-toggleable__label-arrow:before {content: \"▾\";}#sk-container-id-2 div.sk-estimator input.sk-toggleable__control:checked~label.sk-toggleable__label {background-color: #d4ebff;}#sk-container-id-2 div.sk-label input.sk-toggleable__control:checked~label.sk-toggleable__label {background-color: #d4ebff;}#sk-container-id-2 input.sk-hidden--visually {border: 0;clip: rect(1px 1px 1px 1px);clip: rect(1px, 1px, 1px, 1px);height: 1px;margin: -1px;overflow: hidden;padding: 0;position: absolute;width: 1px;}#sk-container-id-2 div.sk-estimator {font-family: monospace;background-color: #f0f8ff;border: 1px dotted black;border-radius: 0.25em;box-sizing: border-box;margin-bottom: 0.5em;}#sk-container-id-2 div.sk-estimator:hover {background-color: #d4ebff;}#sk-container-id-2 div.sk-parallel-item::after {content: \"\";width: 100%;border-bottom: 1px solid gray;flex-grow: 1;}#sk-container-id-2 div.sk-label:hover label.sk-toggleable__label {background-color: #d4ebff;}#sk-container-id-2 div.sk-serial::before {content: \"\";position: absolute;border-left: 1px solid gray;box-sizing: border-box;top: 0;bottom: 0;left: 50%;z-index: 0;}#sk-container-id-2 div.sk-serial {display: flex;flex-direction: column;align-items: center;background-color: white;padding-right: 0.2em;padding-left: 0.2em;position: relative;}#sk-container-id-2 div.sk-item {position: relative;z-index: 1;}#sk-container-id-2 div.sk-parallel {display: flex;align-items: stretch;justify-content: center;background-color: white;position: relative;}#sk-container-id-2 div.sk-item::before, #sk-container-id-2 div.sk-parallel-item::before {content: \"\";position: absolute;border-left: 1px solid gray;box-sizing: border-box;top: 0;bottom: 0;left: 50%;z-index: -1;}#sk-container-id-2 div.sk-parallel-item {display: flex;flex-direction: column;z-index: 1;position: relative;background-color: white;}#sk-container-id-2 div.sk-parallel-item:first-child::after {align-self: flex-end;width: 50%;}#sk-container-id-2 div.sk-parallel-item:last-child::after {align-self: flex-start;width: 50%;}#sk-container-id-2 div.sk-parallel-item:only-child::after {width: 0;}#sk-container-id-2 div.sk-dashed-wrapped {border: 1px dashed gray;margin: 0 0.4em 0.5em 0.4em;box-sizing: border-box;padding-bottom: 0.4em;background-color: white;}#sk-container-id-2 div.sk-label label {font-family: monospace;font-weight: bold;display: inline-block;line-height: 1.2em;}#sk-container-id-2 div.sk-label-container {text-align: center;}#sk-container-id-2 div.sk-container {/* jupyter's `normalize.less` sets `[hidden] { display: none; }` but bootstrap.min.css set `[hidden] { display: none !important; }` so we also need the `!important` here to be able to override the default hidden behavior on the sphinx rendered scikit-learn.org. See: https://github.com/scikit-learn/scikit-learn/issues/21755 */display: inline-block !important;position: relative;}#sk-container-id-2 div.sk-text-repr-fallback {display: none;}</style><div id=\"sk-container-id-2\" class=\"sk-top-container\"><div class=\"sk-text-repr-fallback\"><pre>GaussianNB()</pre><b>In a Jupyter environment, please rerun this cell to show the HTML representation or trust the notebook. <br />On GitHub, the HTML representation is unable to render, please try loading this page with nbviewer.org.</b></div><div class=\"sk-container\" hidden><div class=\"sk-item\"><div class=\"sk-estimator sk-toggleable\"><input class=\"sk-toggleable__control sk-hidden--visually\" id=\"sk-estimator-id-2\" type=\"checkbox\" checked><label for=\"sk-estimator-id-2\" class=\"sk-toggleable__label sk-toggleable__label-arrow\">GaussianNB</label><div class=\"sk-toggleable__content\"><pre>GaussianNB()</pre></div></div></div></div></div>"
      ],
      "text/plain": [
       "GaussianNB()"
      ]
     },
     "execution_count": 54,
     "metadata": {},
     "output_type": "execute_result"
    }
   ],
   "source": [
    "GaussianNB()"
   ]
  },
  {
   "cell_type": "code",
   "execution_count": 55,
   "id": "17191925",
   "metadata": {},
   "outputs": [
    {
     "name": "stdout",
     "output_type": "stream",
     "text": [
      "Recall  0.7855750487329435\n"
     ]
    }
   ],
   "source": [
    "pred = nb.predict(X_test)\n",
    "r = recall_score(y_test, pred,average='micro')\n",
    "print(\"Recall \", r)"
   ]
  },
  {
   "cell_type": "code",
   "execution_count": 57,
   "id": "45dd45c2",
   "metadata": {},
   "outputs": [
    {
     "data": {
      "text/plain": [
       "array([[ 17,  30],\n",
       "       [ 80, 386]], dtype=int64)"
      ]
     },
     "execution_count": 57,
     "metadata": {},
     "output_type": "execute_result"
    }
   ],
   "source": [
    "confusion_matrix(y_test,pred)"
   ]
  },
  {
   "cell_type": "code",
   "execution_count": 59,
   "id": "cb5b50cf",
   "metadata": {},
   "outputs": [
    {
     "name": "stdout",
     "output_type": "stream",
     "text": [
      "Accuracy of the Gaussian Naive Bayes algorithm is: 0.7855750487329435\n"
     ]
    }
   ],
   "source": [
    "print('Accuracy of the Gaussian Naive Bayes algorithm is: {}'.format(accuracy_score(y_test,pred)))"
   ]
  },
  {
   "cell_type": "code",
   "execution_count": 60,
   "id": "5e38c999",
   "metadata": {},
   "outputs": [
    {
     "name": "stderr",
     "output_type": "stream",
     "text": [
      "C:\\Users\\muha\\AppData\\Local\\Packages\\PythonSoftwareFoundation.Python.3.8_qbz5n2kfra8p0\\LocalCache\\local-packages\\Python38\\site-packages\\sklearn\\utils\\deprecation.py:87: FutureWarning: Function plot_confusion_matrix is deprecated; Function `plot_confusion_matrix` is deprecated in 1.0 and will be removed in 1.2. Use one of the class methods: ConfusionMatrixDisplay.from_predictions or ConfusionMatrixDisplay.from_estimator.\n",
      "  warnings.warn(msg, category=FutureWarning)\n"
     ]
    },
    {
     "data": {
      "image/png": "[encoded data removed]",
      "text/plain": [
       "<Figure size 1000x600 with 2 Axes>"
      ]
     },
     "metadata": {},
     "output_type": "display_data"
    }
   ],
   "source": [
    "matrix = plot_confusion_matrix(nb,X_test,y_test,cmap=plt.cm.Reds)\n",
    "matrix.ax_.set_title('Confusion Matrix',color='red')\n",
    "plt.xlabel('Predicted Label',color='black')\n",
    "plt.ylabel('True Label',color='black')\n",
    "plt.gcf().axes[0].tick_params(color=\"black\")\n",
    "plt.gcf().axes[1].tick_params(color=\"black\")\n",
    "plt.gcf().set_size_inches(10,6)"
   ]
  },
  {
   "cell_type": "markdown",
   "id": "c4a63b37",
   "metadata": {},
   "source": [
    "### Random Forest"
   ]
  },
  {
   "cell_type": "code",
   "execution_count": 61,
   "id": "0f51a307",
   "metadata": {},
   "outputs": [
    {
     "name": "stdout",
     "output_type": "stream",
     "text": [
      "Recall  0.9083820662768031\n"
     ]
    }
   ],
   "source": [
    "from sklearn.ensemble import RandomForestClassifier\n",
    "clf = RandomForestClassifier(max_depth=2, random_state=0)\n",
    "clf.fit(X_train, y_train)\n",
    "predrf = clf.predict(X_test)\n",
    "r = recall_score(y_test, predrf,average='micro')\n",
    "print(\"Recall \", r)"
   ]
  },
  {
   "cell_type": "code",
   "execution_count": 62,
   "id": "3e1c962e",
   "metadata": {},
   "outputs": [
    {
     "data": {
      "text/plain": [
       "array([[  0,  47],\n",
       "       [  0, 466]], dtype=int64)"
      ]
     },
     "execution_count": 62,
     "metadata": {},
     "output_type": "execute_result"
    }
   ],
   "source": [
    "confusion_matrix(y_test,predrf)"
   ]
  },
  {
   "cell_type": "code",
   "execution_count": 63,
   "id": "40230ce3",
   "metadata": {},
   "outputs": [
    {
     "name": "stdout",
     "output_type": "stream",
     "text": [
      "Accuracy of the Random Forest algorithm is: 0.9083820662768031\n"
     ]
    }
   ],
   "source": [
    "print('Accuracy of the Random Forest algorithm is: {}'.format(accuracy_score(y_test,predrf)))"
   ]
  },
  {
   "cell_type": "code",
   "execution_count": 71,
   "id": "a57ae125",
   "metadata": {},
   "outputs": [
    {
     "name": "stderr",
     "output_type": "stream",
     "text": [
      "C:\\Users\\muha\\AppData\\Local\\Packages\\PythonSoftwareFoundation.Python.3.8_qbz5n2kfra8p0\\LocalCache\\local-packages\\Python38\\site-packages\\sklearn\\utils\\deprecation.py:87: FutureWarning: Function plot_confusion_matrix is deprecated; Function `plot_confusion_matrix` is deprecated in 1.0 and will be removed in 1.2. Use one of the class methods: ConfusionMatrixDisplay.from_predictions or ConfusionMatrixDisplay.from_estimator.\n",
      "  warnings.warn(msg, category=FutureWarning)\n"
     ]
    },
    {
     "data": {
      "image/png": "[encoded data removed]",
      "text/plain": [
       "<Figure size 1000x600 with 2 Axes>"
      ]
     },
     "metadata": {},
     "output_type": "display_data"
    }
   ],
   "source": [
    "matrix = plot_confusion_matrix(clf,X_test,y_test,cmap=plt.cm.Reds)\n",
    "matrix.ax_.set_title('Confusion Matrix',color='red')\n",
    "plt.xlabel('Predicted Label',color='black')\n",
    "plt.ylabel('True Label',color='black')\n",
    "plt.gcf().axes[0].tick_params(color=\"black\")\n",
    "plt.gcf().axes[1].tick_params(color=\"black\")\n",
    "plt.gcf().set_size_inches(10,6)"
   ]
  },
  {
   "cell_type": "code",
   "execution_count": null,
   "id": "18f4828b",
   "metadata": {},
   "outputs": [],
   "source": []
  }
 ],
 "metadata": {
  "kernelspec": {
   "display_name": "Python 3 (ipykernel)",
   "language": "python",
   "name": "python3"
  },
  "language_info": {
   "codemirror_mode": {
    "name": "ipython",
    "version": 3
   },
   "file_extension": ".py",
   "mimetype": "text/x-python",
   "name": "python",
   "nbconvert_exporter": "python",
   "pygments_lexer": "ipython3",
   "version": "3.8.10"
  }
 },
 "nbformat": 4,
 "nbformat_minor": 5
}
